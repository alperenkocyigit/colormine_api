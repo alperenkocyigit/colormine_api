{
  "cells": [
    {
      "cell_type": "markdown",
      "metadata": {
        "id": "XdSucRD2frYb"
      },
      "source": [
        "# Colormine CIE2000 LCH Compare Using API"
      ]
    },
    {
      "cell_type": "markdown",
      "metadata": {
        "id": "7EYRzKtDf12L"
      },
      "source": [
        "Example Curl Request"
      ]
    },
    {
      "cell_type": "code",
      "execution_count": null,
      "metadata": {
        "id": "H-OPwGtAlqOf"
      },
      "outputs": [],
      "source": [
        "!curl 'http://colormine.org/api/Cie2000/Compare?request=\\{%22A%22:\\{%22Type%22:%22Lch%22,%22L%22:%2211.1%22,%22C%22:%2222.2%22,%22H%22:%2233.3%22\\},%22B%22:\\{%22Type%22:%22Lch%22,%22L%22:%2244.4%22,%22C%22:%2255.5%22,%22H%22:%2266.6%22\\}\\}' \\\n",
        "  -H 'Accept: */*' \\\n",
        "  -H 'Accept-Language: en-US,en;q=0.9' \\\n",
        "  -H 'Connection: keep-alive' \\\n",
        "  -H 'Referer: http://colormine.org/delta-e-calculator/cie2000' \\\n",
        "  -H 'User-Agent: Mozilla/5.0 (X11; Linux x86_64) AppleWebKit/537.36 (KHTML, like Gecko) Chrome/123.0.0.0 Safari/537.36 OPR/109.0.0.0' \\\n",
        "  -H 'X-Requested-With: XMLHttpRequest' \\\n",
        "  --insecure"
      ]
    }
  ],
  "metadata": {
    "colab": {
      "provenance": []
    },
    "kernelspec": {
      "display_name": "Python 3",
      "name": "python3"
    },
    "language_info": {
      "name": "python"
    }
  },
  "nbformat": 4,
  "nbformat_minor": 0
}
